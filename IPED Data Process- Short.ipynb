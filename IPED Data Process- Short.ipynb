{
 "cells": [
  {
   "cell_type": "code",
   "execution_count": null,
   "id": "0d5c0a52",
   "metadata": {
    "slideshow": {
     "slide_type": "slide"
    }
   },
   "outputs": [],
   "source": [
    "import pandas as pd\n",
    "import numpy as np\n",
    "\n",
    "import chardet"
   ]
  },
  {
   "cell_type": "markdown",
   "id": "e96355aa",
   "metadata": {},
   "source": [
    "### File Processing"
   ]
  },
  {
   "cell_type": "code",
   "execution_count": null,
   "id": "c7e5e7c3",
   "metadata": {},
   "outputs": [],
   "source": [
    "# Set up the folder structure for file processing\n",
    "\n",
    "downloadedFileFolder = './DownloadedFiles/'\n",
    "stagingFolder = './Staging/'\n",
    "finishedFolder = './Finished/'"
   ]
  },
  {
   "cell_type": "markdown",
   "id": "59803dbf",
   "metadata": {},
   "source": [
    "##### Import characteristics files for data processing"
   ]
  },
  {
   "cell_type": "code",
   "execution_count": null,
   "id": "dd8ac2d3",
   "metadata": {},
   "outputs": [],
   "source": [
    "# Read in the AAU university list and save it into a CSV file\n",
    "\n",
    "read_file = pd.read_csv (downloadedFileFolder + 'ListofUniversities.txt', header=None)\n",
    "aau_univ = read_file.set_axis(['INSTNM'], axis=1)"
   ]
  },
  {
   "cell_type": "code",
   "execution_count": null,
   "id": "ca16c09a",
   "metadata": {},
   "outputs": [],
   "source": [
    "# Read the Institutional Characteristics file to get the AAU private universities' code\n",
    "\n",
    "with open(downloadedFileFolder + 'hd2021.csv', 'rb') as f:\n",
    "    enc = chardet.detect(f.read())  # or readline if the file is large\n",
    "\n",
    "Univ_code = pd.read_csv(downloadedFileFolder + 'hd2021.csv', encoding = enc['encoding'])\n",
    "\n",
    "# We only need institution names and codes. Drop all other columns\n",
    "Univ_code.drop(Univ_code.iloc[:,2:],inplace=True, axis=1)\n",
    "\n",
    "# Remove non AAU schools from the university code list\n",
    "aau_code = Univ_code.loc[Univ_code['INSTNM'].isin(aau_univ['INSTNM'])]"
   ]
  },
  {
   "cell_type": "code",
   "execution_count": null,
   "id": "dcab3e35",
   "metadata": {},
   "outputs": [],
   "source": [
    "# A function to extract only doctoral degree data for AAU schools\n",
    "\n",
    "def getaauphd(file, year):\n",
    "    if(file.find('.csv')):\n",
    "        studentData = pd.read_csv(file)\n",
    "        \n",
    "        #remove non aau schools from degree award data based on UNITID\n",
    "        aau_studentData = studentData.loc[studentData['UNITID'].isin(aau_code['UNITID'])]\n",
    "        \n",
    "        # remove non doctoral degrees\n",
    "        aau_doc = aau_studentData.loc[aau_studentData['AWLEVEL'] == 17]\n",
    "        \n",
    "    else:\n",
    "        aau_doc = pd.DataFrame()\n",
    "    return aau_doc"
   ]
  },
  {
   "cell_type": "code",
   "execution_count": null,
   "id": "9a8cec6e",
   "metadata": {},
   "outputs": [],
   "source": [
    "# A function to fill in NaN values\n",
    "\n",
    "def fillNa(df, fillinpair):\n",
    "    #df.replace(0, np.nan, inplace=)\n",
    "    for a in fillinpair:\n",
    "        df[a[0]].fillna(df[a[1]], inplace=True)\n",
    "        df[a[0]].astype(int)\n",
    "    \n",
    "    for a in fillinpair:\n",
    "        df.loc[df[a[0]]== 0 , [a[0]]] = df[a[1]]\n",
    "                                               \n",
    "    df.fillna(0,inplace=True)\n",
    "    df.replace(np.nan, 0 ,inplace=True)\n",
    "    return df"
   ]
  },
  {
   "cell_type": "markdown",
   "id": "9148062b",
   "metadata": {},
   "source": [
    "##### Import student degree award data"
   ]
  },
  {
   "cell_type": "code",
   "execution_count": null,
   "id": "450b2759",
   "metadata": {},
   "outputs": [],
   "source": [
    "# Get the AAU doctoral degree data\n",
    "\n",
    "aau_doc = pd.DataFrame()\n",
    "\n",
    "cols_to_keep = []\n",
    "\n",
    "for y in ['2011','2010','2009','2019','2020','2021']:\n",
    "    \n",
    "    aau_doc_y = pd.DataFrame()\n",
    "    filepath =  downloadedFileFolder + 'c' + y + '_a_rv.csv'\n",
    "    aau_doc_y = getaauphd(filepath, y)\n",
    "    \n",
    "    if y == '2011':\n",
    "        \n",
    "        # special process for 2011 data with a column name change.\n",
    "        aau_doc_y = aau_doc_y.rename(columns={aau_doc_y.columns[63]:'CNRALW'})\n",
    "        cols_to_keep = aau_doc_y.columns\n",
    "        \n",
    "    elif (y == '2009') or (y == '2010'):\n",
    "        \n",
    "        # special process for 2009 and 2010 data to remove extra columns and match with 2011 data\n",
    "        \n",
    "        fillinpair =[['CAIANT','DVCAIT'],['CASIAT','DVCAPT'],['CBKAAT','DVCBKT'],['CHISPT','DVCHST'],['CWHITT','DVCWHT']]\n",
    "        fillNa(aau_doc_y,fillinpair)\n",
    "        aau_doc_y.drop(aau_doc_y.columns.difference(cols_to_keep), axis=1, inplace=True)\n",
    "    \n",
    "    # Add year to check duplicates\n",
    "    aau_doc_y['Year'] = y\n",
    "    \n",
    "    aau_doc = aau_doc.append(aau_doc_y)"
   ]
  },
  {
   "cell_type": "code",
   "execution_count": null,
   "id": "6e731ffa",
   "metadata": {},
   "outputs": [],
   "source": [
    "# Keep only the total columns and the other three searchable columns\n",
    "varlist = pd.read_excel(downloadedFileFolder + 'c2021_a.xlsx', sheet_name='varlist')\n",
    "\n",
    "varlist_total = varlist[varlist['varTitle'].str.endswith('total') | varlist['varname'].isin(['UNITID','CIPCODE','AWLEVEL'])].copy()\n",
    "\n",
    "varlist_keep = varlist_total['varname'].copy()\n",
    "\n",
    "new_row = pd.Series(data={'varname':'Year'}, name='x')\n",
    "varlist_keep = varlist_keep.append(new_row, ignore_index = True)\n",
    "\n",
    "# Drop not needed columns from the two files created above\n",
    "\n",
    "aau_doc.drop(aau_doc.columns.difference(varlist_keep), axis=1, inplace=True)"
   ]
  },
  {
   "cell_type": "markdown",
   "id": "ed43c39e",
   "metadata": {},
   "source": [
    "## Eliminate Duplicates"
   ]
  },
  {
   "cell_type": "code",
   "execution_count": null,
   "id": "e25b3374",
   "metadata": {},
   "outputs": [],
   "source": [
    "# Make a backup copy before eliminating duplicates\n",
    "aau_doc_bk= aau_doc.copy()\n",
    "\n",
    "# Remove duplicates\n",
    "aau_doc.drop_duplicates(keep='first', inplace=True)"
   ]
  },
  {
   "cell_type": "markdown",
   "id": "93db72e9",
   "metadata": {},
   "source": [
    "## Extract data based on discipline fields"
   ]
  },
  {
   "cell_type": "code",
   "execution_count": null,
   "id": "abc6ad36",
   "metadata": {},
   "outputs": [],
   "source": [
    "# A function to filter on degree codes\n",
    "def getDegDataOnField(fieldfilter, degreedf, disciplineField):\n",
    "\n",
    "    aau_doc_field = pd.DataFrame()\n",
    "    for f in fieldfilter:\n",
    "        aau_doc_field = aau_doc_field.append(degreedf.loc[degreedf['CIPCODE'].astype(str).str.startswith(str(f)+'.', na=False)] \n",
    ") \n",
    "    aau_doc_field['DisciplineField'] = disciplineField\n",
    "\n",
    "    return aau_doc_field"
   ]
  },
  {
   "cell_type": "code",
   "execution_count": null,
   "id": "79820ae0",
   "metadata": {},
   "outputs": [],
   "source": [
    "# create filter for stem degrees. Assume cipcode for stem degree starts with the following codes: \n",
    "# 11(COMPUTER AND INFORMATION SCIENCES AND SUPPORT SERVICES),14(engineering)\n",
    "# 15(ENGINEERING TECHNOLOGIES AND ENGINEERING-RELATED FIELDS ), 26(biological sciences), 27(mathematics)\n",
    "# 40(Physical Sciences)\n",
    "\n",
    "stemfilter=[11,14,15,26,27,40]\n",
    "\n",
    "aau_doc_withField = getDegDataOnField(stemfilter, aau_doc, 'STEM')"
   ]
  },
  {
   "cell_type": "code",
   "execution_count": null,
   "id": "1e0161ea",
   "metadata": {},
   "outputs": [],
   "source": [
    "# create filter for Social Sciences degrees. Assume cipcode for Social Sciences degree starts with the following codes: \n",
    "# 19(FAMILY AND CONSUMER SCIENCES/HUMAN SCIENCES),42(PSYCHOLOGY),\n",
    "# 43(HOMELAND SECURITY, LAW ENFORCEMENT, FIREFIGHTING AND RELATED PROTECTIVE SERVICES)\n",
    "# 44(PUBLIC ADMINISTRATION AND SOCIAL SERVICE PROFESSIONS), 45(SOCIAL SCIENCES)\n",
    "\n",
    "ssfilter=[19,42,43,44,45]\n",
    "\n",
    "aau_doc_withField = aau_doc_withField.append(getDegDataOnField(ssfilter, aau_doc,'Social Sciences'))"
   ]
  },
  {
   "cell_type": "code",
   "execution_count": null,
   "id": "c1ba216c",
   "metadata": {},
   "outputs": [],
   "source": [
    "# create filter for Humanities degrees. Assume cipcode for Humanities degree starts with the following codes: \n",
    "# 05(AREA, ETHNIC, CULTURAL, GENDER, AND GROUP STUDIES),16(FOREIGN LANGUAGES, LITERATURES, AND LINGUISTICS),\n",
    "# 23(ENGLISH LANGUAGE AND LITERATURE/LETTERS), 24(LIBERAL ARTS AND SCIENCES, GENERAL STUDIES AND HUMANITIES)\n",
    "# 38(PHILOSOPHY AND RELIGIOUS STUDIES), 50(VISUAL AND PERFORMING ARTS), 54(HISTORY)\n",
    "\n",
    "humfilter=[5,16,23,24,38,50,54]\n",
    "\n",
    "aau_doc_withField = aau_doc_withField.append(getDegDataOnField(humfilter, aau_doc,'Humanities'))"
   ]
  },
  {
   "cell_type": "markdown",
   "id": "94936a69",
   "metadata": {},
   "source": [
    "## Data Integrity Check"
   ]
  },
  {
   "cell_type": "code",
   "execution_count": null,
   "id": "d79c27a9",
   "metadata": {},
   "outputs": [],
   "source": [
    "# A function to check if original data total equals the sum of the columns\n",
    "\n",
    "def checkTotal(df, columns):\n",
    "    \n",
    "    df['RowTotal'] = df[columns].sum(axis=1)\n",
    "    df['equal']=np.where(df['CTOTALT']==df['RowTotal'], True, False)\n",
    "    \n",
    "    returndf = df.loc[df['equal']==False].reset_index()\n",
    "    return returndf"
   ]
  },
  {
   "cell_type": "code",
   "execution_count": null,
   "id": "496ea591",
   "metadata": {},
   "outputs": [],
   "source": [
    "# Check files for data integrity\n",
    "\n",
    "totalColumns = aau_doc.loc[:,(aau_doc.columns.str.endswith('T')) & (~aau_doc.columns.str.contains('TOTAL'))].columns\n",
    "\n",
    "aau_doc_withField_check = checkTotal(aau_doc_withField, totalColumns)\n",
    "print('aau_doc_withField_check is good: ' + str(aau_doc_withField_check.empty))  "
   ]
  },
  {
   "cell_type": "markdown",
   "id": "dc5315d6",
   "metadata": {},
   "source": [
    "## Fix data discrepancy"
   ]
  },
  {
   "cell_type": "code",
   "execution_count": null,
   "id": "7f9abe4c",
   "metadata": {},
   "outputs": [],
   "source": [
    "# A function to find which item in each identified file caused the discrepancy  \n",
    "\n",
    "def findMismatch(dftofind, dfwitherrorid, columns):\n",
    "    mismatchdf = pd.DataFrame()\n",
    "    for ind in dfwitherrorid.index:\n",
    "        mismatchdf= mismatchdf.append(dftofind.loc[dftofind['UNITID']== dfwitherrorid['UNITID'][ind]])\n",
    "\n",
    "    mismatchdf.drop(['CIPCODE', 'AWLEVEL'],axis=1, inplace=True)\n",
    "\n",
    "    mismatchdf['RowTotal'] = mismatchdf[columns].sum(axis=1)\n",
    "    mismatchdf['equal']=np.where(mismatchdf['CTOTALT']==mismatchdf['RowTotal'], True, False)\n",
    "    \n",
    "    return mismatchdf.loc[mismatchdf['equal']==False]"
   ]
  },
  {
   "cell_type": "code",
   "execution_count": null,
   "id": "79ba2674",
   "metadata": {
    "scrolled": true
   },
   "outputs": [],
   "source": [
    "# Find the original mismatched rows in aau_doc_withField\n",
    "print(findMismatch(aau_doc_withField,aau_doc_withField_check,totalColumns))"
   ]
  },
  {
   "cell_type": "code",
   "execution_count": null,
   "id": "283f51d5",
   "metadata": {},
   "outputs": [],
   "source": [
    "# From the above data, we assume it is a typo in CTOTALT. We reset it to 10\n",
    "aau_doc_withField.loc[[162022],['CTOTALT']] = 10"
   ]
  },
  {
   "cell_type": "code",
   "execution_count": null,
   "id": "c936a759",
   "metadata": {},
   "outputs": [],
   "source": [
    "# From the above data, we assume it is a double-counting for CASIAT and CNHPIT. We split them to CASIAT 4 and CNHPIT 5\n",
    "aau_doc_withField.loc[[137782],['CASIAT']] = 4\n",
    "aau_doc_withField.loc[[137782],['CNHPIT']] = 5"
   ]
  },
  {
   "cell_type": "markdown",
   "id": "8e35e6f5",
   "metadata": {},
   "source": [
    "## Feature Engineering"
   ]
  },
  {
   "cell_type": "code",
   "execution_count": null,
   "id": "ed264f73",
   "metadata": {},
   "outputs": [],
   "source": [
    "# Convert year to period\n",
    "aau_doc_withField.loc[aau_doc_withField['Year'].isin(['2009','2010','2011']), 'Period' ] = '2009-2011'\n",
    "aau_doc_withField.loc[aau_doc_withField['Year'].isin(['2019','2020','2021']), 'Period' ] = '2019-2021'\n",
    "\n",
    "# Drop un-needed columns (Features)\n",
    "aau_doc_withField.drop(['CIPCODE','AWLEVEL','Year','RowTotal','equal'], axis=1, inplace=True)"
   ]
  },
  {
   "cell_type": "markdown",
   "id": "b220616c",
   "metadata": {},
   "source": [
    "## Sum up based on the institution"
   ]
  },
  {
   "cell_type": "code",
   "execution_count": null,
   "id": "b87f1936",
   "metadata": {},
   "outputs": [],
   "source": [
    "# Sum up degree by race/ethnicity by the institution in three fields\n",
    "sum_cols = aau_doc.loc[:,aau_doc.columns.str.endswith('T')].columns\n",
    "\n",
    "aau_byUniv = aau_doc_withField.groupby(['DisciplineField','Period','UNITID'])[sum_cols].sum() \n",
    "aau_total = aau_byUniv.reset_index()"
   ]
  },
  {
   "cell_type": "code",
   "execution_count": null,
   "id": "7b3b27a6",
   "metadata": {
    "scrolled": true
   },
   "outputs": [],
   "source": [
    "# Add universitys' full name to the data\n",
    "\n",
    "aau_total = pd.merge(aau_total,aau_code,on='UNITID',how='left')"
   ]
  },
  {
   "cell_type": "markdown",
   "id": "18e6f215",
   "metadata": {},
   "source": [
    "## Add ex-ND average row for comparison"
   ]
  },
  {
   "cell_type": "code",
   "execution_count": null,
   "id": "bba93da1",
   "metadata": {},
   "outputs": [],
   "source": [
    "# Add the mean of every other aau universities except ND \n",
    "aau_totalmean = aau_total.loc[aau_total['INSTNM']!='University of Notre Dame'].groupby(['DisciplineField','Period'])[sum_cols].mean().reset_index()\n",
    "\n",
    "aau_totalmean[['UNITID',['INSTNM']]] = ['000000','AAU mean excl ND']\n",
    "aau_total = aau_total.append(aau_totalmean)"
   ]
  },
  {
   "cell_type": "code",
   "execution_count": null,
   "id": "146b9849",
   "metadata": {},
   "outputs": [],
   "source": [
    "# Write to the excel file\n",
    "\n",
    "aau_total.to_excel(finishedFolder + 'aaudoctoraldegrees.xlsx', index = False)"
   ]
  }
 ],
 "metadata": {
  "kernelspec": {
   "display_name": "Python 3 (ipykernel)",
   "language": "python",
   "name": "python3"
  },
  "language_info": {
   "codemirror_mode": {
    "name": "ipython",
    "version": 3
   },
   "file_extension": ".py",
   "mimetype": "text/x-python",
   "name": "python",
   "nbconvert_exporter": "python",
   "pygments_lexer": "ipython3",
   "version": "3.9.7"
  }
 },
 "nbformat": 4,
 "nbformat_minor": 5
}
